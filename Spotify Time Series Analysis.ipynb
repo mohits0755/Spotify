{
 "cells": [
  {
   "cell_type": "markdown",
   "metadata": {},
   "source": [
    "# Spotify Song Prediction\n",
    "Audio features of 160k+ songs released in between 1921 and 2020 Perform time-series analysis."
   ]
  },
  {
   "cell_type": "markdown",
   "metadata": {},
   "source": [
    "# Task 1"
   ]
  },
  {
   "cell_type": "code",
   "execution_count": 1,
   "metadata": {},
   "outputs": [],
   "source": [
    "import numpy as np\n",
    "import pandas as pd\n",
    "\n",
    "import matplotlib.pyplot as plt\n",
    "\n",
    "import plotly.express as px\n",
    "import seaborn as sns\n",
    "\n",
    "\n",
    "%matplotlib inline\n",
    "\n"
   ]
  },
  {
   "cell_type": "code",
   "execution_count": 2,
   "metadata": {},
   "outputs": [],
   "source": [
    "data1= pd.read_csv(\"W:\\intern min project\\spotify_data\\data.csv\",)"
   ]
  },
  {
   "cell_type": "code",
   "execution_count": 3,
   "metadata": {},
   "outputs": [
    {
     "data": {
      "text/plain": [
       "(169909, 19)"
      ]
     },
     "execution_count": 3,
     "metadata": {},
     "output_type": "execute_result"
    }
   ],
   "source": [
    "data1.shape"
   ]
  },
  {
   "cell_type": "markdown",
   "metadata": {},
   "source": [
    "Data contains nearly 170,000 songs with 19 different features columns. The features include the song name, artist, release date,etc. "
   ]
  },
  {
   "cell_type": "code",
   "execution_count": 4,
   "metadata": {},
   "outputs": [
    {
     "data": {
      "text/html": [
       "<div>\n",
       "<style scoped>\n",
       "    .dataframe tbody tr th:only-of-type {\n",
       "        vertical-align: middle;\n",
       "    }\n",
       "\n",
       "    .dataframe tbody tr th {\n",
       "        vertical-align: top;\n",
       "    }\n",
       "\n",
       "    .dataframe thead th {\n",
       "        text-align: right;\n",
       "    }\n",
       "</style>\n",
       "<table border=\"1\" class=\"dataframe\">\n",
       "  <thead>\n",
       "    <tr style=\"text-align: right;\">\n",
       "      <th></th>\n",
       "      <th>acousticness</th>\n",
       "      <th>artists</th>\n",
       "      <th>danceability</th>\n",
       "      <th>duration_ms</th>\n",
       "      <th>energy</th>\n",
       "      <th>explicit</th>\n",
       "      <th>id</th>\n",
       "      <th>instrumentalness</th>\n",
       "      <th>key</th>\n",
       "      <th>liveness</th>\n",
       "      <th>loudness</th>\n",
       "      <th>mode</th>\n",
       "      <th>name</th>\n",
       "      <th>popularity</th>\n",
       "      <th>release_date</th>\n",
       "      <th>speechiness</th>\n",
       "      <th>tempo</th>\n",
       "      <th>valence</th>\n",
       "      <th>year</th>\n",
       "    </tr>\n",
       "  </thead>\n",
       "  <tbody>\n",
       "    <tr>\n",
       "      <th>0</th>\n",
       "      <td>0.995</td>\n",
       "      <td>['Carl Woitschach']</td>\n",
       "      <td>0.708</td>\n",
       "      <td>158648</td>\n",
       "      <td>0.1950</td>\n",
       "      <td>0</td>\n",
       "      <td>6KbQ3uYMLKb5jDxLF7wYDD</td>\n",
       "      <td>0.563</td>\n",
       "      <td>10</td>\n",
       "      <td>0.1510</td>\n",
       "      <td>-12.428</td>\n",
       "      <td>1</td>\n",
       "      <td>Singende Bataillone 1. Teil</td>\n",
       "      <td>0</td>\n",
       "      <td>1928</td>\n",
       "      <td>0.0506</td>\n",
       "      <td>118.469</td>\n",
       "      <td>0.7790</td>\n",
       "      <td>1928</td>\n",
       "    </tr>\n",
       "    <tr>\n",
       "      <th>1</th>\n",
       "      <td>0.994</td>\n",
       "      <td>['Robert Schumann', 'Vladimir Horowitz']</td>\n",
       "      <td>0.379</td>\n",
       "      <td>282133</td>\n",
       "      <td>0.0135</td>\n",
       "      <td>0</td>\n",
       "      <td>6KuQTIu1KoTTkLXKrwlLPV</td>\n",
       "      <td>0.901</td>\n",
       "      <td>8</td>\n",
       "      <td>0.0763</td>\n",
       "      <td>-28.454</td>\n",
       "      <td>1</td>\n",
       "      <td>Fantasiestücke, Op. 111: Più tosto lento</td>\n",
       "      <td>0</td>\n",
       "      <td>1928</td>\n",
       "      <td>0.0462</td>\n",
       "      <td>83.972</td>\n",
       "      <td>0.0767</td>\n",
       "      <td>1928</td>\n",
       "    </tr>\n",
       "    <tr>\n",
       "      <th>2</th>\n",
       "      <td>0.604</td>\n",
       "      <td>['Seweryn Goszczyński']</td>\n",
       "      <td>0.749</td>\n",
       "      <td>104300</td>\n",
       "      <td>0.2200</td>\n",
       "      <td>0</td>\n",
       "      <td>6L63VW0PibdM1HDSBoqnoM</td>\n",
       "      <td>0.000</td>\n",
       "      <td>5</td>\n",
       "      <td>0.1190</td>\n",
       "      <td>-19.924</td>\n",
       "      <td>0</td>\n",
       "      <td>Chapter 1.18 - Zamek kaniowski</td>\n",
       "      <td>0</td>\n",
       "      <td>1928</td>\n",
       "      <td>0.9290</td>\n",
       "      <td>107.177</td>\n",
       "      <td>0.8800</td>\n",
       "      <td>1928</td>\n",
       "    </tr>\n",
       "    <tr>\n",
       "      <th>3</th>\n",
       "      <td>0.995</td>\n",
       "      <td>['Francisco Canaro']</td>\n",
       "      <td>0.781</td>\n",
       "      <td>180760</td>\n",
       "      <td>0.1300</td>\n",
       "      <td>0</td>\n",
       "      <td>6M94FkXd15sOAOQYRnWPN8</td>\n",
       "      <td>0.887</td>\n",
       "      <td>1</td>\n",
       "      <td>0.1110</td>\n",
       "      <td>-14.734</td>\n",
       "      <td>0</td>\n",
       "      <td>Bebamos Juntos - Instrumental (Remasterizado)</td>\n",
       "      <td>0</td>\n",
       "      <td>1928-09-25</td>\n",
       "      <td>0.0926</td>\n",
       "      <td>108.003</td>\n",
       "      <td>0.7200</td>\n",
       "      <td>1928</td>\n",
       "    </tr>\n",
       "    <tr>\n",
       "      <th>4</th>\n",
       "      <td>0.990</td>\n",
       "      <td>['Frédéric Chopin', 'Vladimir Horowitz']</td>\n",
       "      <td>0.210</td>\n",
       "      <td>687733</td>\n",
       "      <td>0.2040</td>\n",
       "      <td>0</td>\n",
       "      <td>6N6tiFZ9vLTSOIxkj8qKrd</td>\n",
       "      <td>0.908</td>\n",
       "      <td>11</td>\n",
       "      <td>0.0980</td>\n",
       "      <td>-16.829</td>\n",
       "      <td>1</td>\n",
       "      <td>Polonaise-Fantaisie in A-Flat Major, Op. 61</td>\n",
       "      <td>1</td>\n",
       "      <td>1928</td>\n",
       "      <td>0.0424</td>\n",
       "      <td>62.149</td>\n",
       "      <td>0.0693</td>\n",
       "      <td>1928</td>\n",
       "    </tr>\n",
       "  </tbody>\n",
       "</table>\n",
       "</div>"
      ],
      "text/plain": [
       "   acousticness                                   artists  danceability  \\\n",
       "0         0.995                       ['Carl Woitschach']         0.708   \n",
       "1         0.994  ['Robert Schumann', 'Vladimir Horowitz']         0.379   \n",
       "2         0.604                   ['Seweryn Goszczyński']         0.749   \n",
       "3         0.995                      ['Francisco Canaro']         0.781   \n",
       "4         0.990  ['Frédéric Chopin', 'Vladimir Horowitz']         0.210   \n",
       "\n",
       "   duration_ms  energy  explicit                      id  instrumentalness  \\\n",
       "0       158648  0.1950         0  6KbQ3uYMLKb5jDxLF7wYDD             0.563   \n",
       "1       282133  0.0135         0  6KuQTIu1KoTTkLXKrwlLPV             0.901   \n",
       "2       104300  0.2200         0  6L63VW0PibdM1HDSBoqnoM             0.000   \n",
       "3       180760  0.1300         0  6M94FkXd15sOAOQYRnWPN8             0.887   \n",
       "4       687733  0.2040         0  6N6tiFZ9vLTSOIxkj8qKrd             0.908   \n",
       "\n",
       "   key  liveness  loudness  mode  \\\n",
       "0   10    0.1510   -12.428     1   \n",
       "1    8    0.0763   -28.454     1   \n",
       "2    5    0.1190   -19.924     0   \n",
       "3    1    0.1110   -14.734     0   \n",
       "4   11    0.0980   -16.829     1   \n",
       "\n",
       "                                            name  popularity release_date  \\\n",
       "0                    Singende Bataillone 1. Teil           0         1928   \n",
       "1       Fantasiestücke, Op. 111: Più tosto lento           0         1928   \n",
       "2                 Chapter 1.18 - Zamek kaniowski           0         1928   \n",
       "3  Bebamos Juntos - Instrumental (Remasterizado)           0   1928-09-25   \n",
       "4    Polonaise-Fantaisie in A-Flat Major, Op. 61           1         1928   \n",
       "\n",
       "   speechiness    tempo  valence  year  \n",
       "0       0.0506  118.469   0.7790  1928  \n",
       "1       0.0462   83.972   0.0767  1928  \n",
       "2       0.9290  107.177   0.8800  1928  \n",
       "3       0.0926  108.003   0.7200  1928  \n",
       "4       0.0424   62.149   0.0693  1928  "
      ]
     },
     "execution_count": 4,
     "metadata": {},
     "output_type": "execute_result"
    }
   ],
   "source": [
    "data1.head()"
   ]
  },
  {
   "cell_type": "code",
   "execution_count": 5,
   "metadata": {},
   "outputs": [
    {
     "data": {
      "text/plain": [
       "Index(['acousticness', 'artists', 'danceability', 'duration_ms', 'energy',\n",
       "       'explicit', 'id', 'instrumentalness', 'key', 'liveness', 'loudness',\n",
       "       'mode', 'name', 'popularity', 'release_date', 'speechiness', 'tempo',\n",
       "       'valence', 'year'],\n",
       "      dtype='object')"
      ]
     },
     "execution_count": 5,
     "metadata": {},
     "output_type": "execute_result"
    }
   ],
   "source": [
    "data1.columns"
   ]
  },
  {
   "cell_type": "markdown",
   "metadata": {},
   "source": [
    "check is there any missing value"
   ]
  },
  {
   "cell_type": "code",
   "execution_count": 6,
   "metadata": {},
   "outputs": [
    {
     "data": {
      "text/plain": [
       "acousticness        0\n",
       "artists             0\n",
       "danceability        0\n",
       "duration_ms         0\n",
       "energy              0\n",
       "explicit            0\n",
       "id                  0\n",
       "instrumentalness    0\n",
       "key                 0\n",
       "liveness            0\n",
       "loudness            0\n",
       "mode                0\n",
       "name                0\n",
       "popularity          0\n",
       "release_date        0\n",
       "speechiness         0\n",
       "tempo               0\n",
       "valence             0\n",
       "year                0\n",
       "dtype: int64"
      ]
     },
     "execution_count": 6,
     "metadata": {},
     "output_type": "execute_result"
    }
   ],
   "source": [
    "data1.isna().sum()"
   ]
  },
  {
   "cell_type": "markdown",
   "metadata": {},
   "source": [
    "delete unwanted column"
   ]
  },
  {
   "cell_type": "code",
   "execution_count": 7,
   "metadata": {},
   "outputs": [],
   "source": [
    "data1.drop([\"key\", \"mode\", \"explicit\", \"release_date\"], axis=1, inplace=True)"
   ]
  },
  {
   "cell_type": "code",
   "execution_count": 8,
   "metadata": {},
   "outputs": [
    {
     "data": {
      "text/html": [
       "<div>\n",
       "<style scoped>\n",
       "    .dataframe tbody tr th:only-of-type {\n",
       "        vertical-align: middle;\n",
       "    }\n",
       "\n",
       "    .dataframe tbody tr th {\n",
       "        vertical-align: top;\n",
       "    }\n",
       "\n",
       "    .dataframe thead th {\n",
       "        text-align: right;\n",
       "    }\n",
       "</style>\n",
       "<table border=\"1\" class=\"dataframe\">\n",
       "  <thead>\n",
       "    <tr style=\"text-align: right;\">\n",
       "      <th></th>\n",
       "      <th>acousticness</th>\n",
       "      <th>artists</th>\n",
       "      <th>danceability</th>\n",
       "      <th>duration_ms</th>\n",
       "      <th>energy</th>\n",
       "      <th>id</th>\n",
       "      <th>instrumentalness</th>\n",
       "      <th>liveness</th>\n",
       "      <th>loudness</th>\n",
       "      <th>name</th>\n",
       "      <th>popularity</th>\n",
       "      <th>speechiness</th>\n",
       "      <th>tempo</th>\n",
       "      <th>valence</th>\n",
       "      <th>year</th>\n",
       "    </tr>\n",
       "  </thead>\n",
       "  <tbody>\n",
       "    <tr>\n",
       "      <th>0</th>\n",
       "      <td>0.995</td>\n",
       "      <td>['Carl Woitschach']</td>\n",
       "      <td>0.708</td>\n",
       "      <td>158648</td>\n",
       "      <td>0.1950</td>\n",
       "      <td>6KbQ3uYMLKb5jDxLF7wYDD</td>\n",
       "      <td>0.563</td>\n",
       "      <td>0.1510</td>\n",
       "      <td>-12.428</td>\n",
       "      <td>Singende Bataillone 1. Teil</td>\n",
       "      <td>0</td>\n",
       "      <td>0.0506</td>\n",
       "      <td>118.469</td>\n",
       "      <td>0.7790</td>\n",
       "      <td>1928</td>\n",
       "    </tr>\n",
       "    <tr>\n",
       "      <th>1</th>\n",
       "      <td>0.994</td>\n",
       "      <td>['Robert Schumann', 'Vladimir Horowitz']</td>\n",
       "      <td>0.379</td>\n",
       "      <td>282133</td>\n",
       "      <td>0.0135</td>\n",
       "      <td>6KuQTIu1KoTTkLXKrwlLPV</td>\n",
       "      <td>0.901</td>\n",
       "      <td>0.0763</td>\n",
       "      <td>-28.454</td>\n",
       "      <td>Fantasiestücke, Op. 111: Più tosto lento</td>\n",
       "      <td>0</td>\n",
       "      <td>0.0462</td>\n",
       "      <td>83.972</td>\n",
       "      <td>0.0767</td>\n",
       "      <td>1928</td>\n",
       "    </tr>\n",
       "    <tr>\n",
       "      <th>2</th>\n",
       "      <td>0.604</td>\n",
       "      <td>['Seweryn Goszczyński']</td>\n",
       "      <td>0.749</td>\n",
       "      <td>104300</td>\n",
       "      <td>0.2200</td>\n",
       "      <td>6L63VW0PibdM1HDSBoqnoM</td>\n",
       "      <td>0.000</td>\n",
       "      <td>0.1190</td>\n",
       "      <td>-19.924</td>\n",
       "      <td>Chapter 1.18 - Zamek kaniowski</td>\n",
       "      <td>0</td>\n",
       "      <td>0.9290</td>\n",
       "      <td>107.177</td>\n",
       "      <td>0.8800</td>\n",
       "      <td>1928</td>\n",
       "    </tr>\n",
       "    <tr>\n",
       "      <th>3</th>\n",
       "      <td>0.995</td>\n",
       "      <td>['Francisco Canaro']</td>\n",
       "      <td>0.781</td>\n",
       "      <td>180760</td>\n",
       "      <td>0.1300</td>\n",
       "      <td>6M94FkXd15sOAOQYRnWPN8</td>\n",
       "      <td>0.887</td>\n",
       "      <td>0.1110</td>\n",
       "      <td>-14.734</td>\n",
       "      <td>Bebamos Juntos - Instrumental (Remasterizado)</td>\n",
       "      <td>0</td>\n",
       "      <td>0.0926</td>\n",
       "      <td>108.003</td>\n",
       "      <td>0.7200</td>\n",
       "      <td>1928</td>\n",
       "    </tr>\n",
       "    <tr>\n",
       "      <th>4</th>\n",
       "      <td>0.990</td>\n",
       "      <td>['Frédéric Chopin', 'Vladimir Horowitz']</td>\n",
       "      <td>0.210</td>\n",
       "      <td>687733</td>\n",
       "      <td>0.2040</td>\n",
       "      <td>6N6tiFZ9vLTSOIxkj8qKrd</td>\n",
       "      <td>0.908</td>\n",
       "      <td>0.0980</td>\n",
       "      <td>-16.829</td>\n",
       "      <td>Polonaise-Fantaisie in A-Flat Major, Op. 61</td>\n",
       "      <td>1</td>\n",
       "      <td>0.0424</td>\n",
       "      <td>62.149</td>\n",
       "      <td>0.0693</td>\n",
       "      <td>1928</td>\n",
       "    </tr>\n",
       "  </tbody>\n",
       "</table>\n",
       "</div>"
      ],
      "text/plain": [
       "   acousticness                                   artists  danceability  \\\n",
       "0         0.995                       ['Carl Woitschach']         0.708   \n",
       "1         0.994  ['Robert Schumann', 'Vladimir Horowitz']         0.379   \n",
       "2         0.604                   ['Seweryn Goszczyński']         0.749   \n",
       "3         0.995                      ['Francisco Canaro']         0.781   \n",
       "4         0.990  ['Frédéric Chopin', 'Vladimir Horowitz']         0.210   \n",
       "\n",
       "   duration_ms  energy                      id  instrumentalness  liveness  \\\n",
       "0       158648  0.1950  6KbQ3uYMLKb5jDxLF7wYDD             0.563    0.1510   \n",
       "1       282133  0.0135  6KuQTIu1KoTTkLXKrwlLPV             0.901    0.0763   \n",
       "2       104300  0.2200  6L63VW0PibdM1HDSBoqnoM             0.000    0.1190   \n",
       "3       180760  0.1300  6M94FkXd15sOAOQYRnWPN8             0.887    0.1110   \n",
       "4       687733  0.2040  6N6tiFZ9vLTSOIxkj8qKrd             0.908    0.0980   \n",
       "\n",
       "   loudness                                           name  popularity  \\\n",
       "0   -12.428                    Singende Bataillone 1. Teil           0   \n",
       "1   -28.454       Fantasiestücke, Op. 111: Più tosto lento           0   \n",
       "2   -19.924                 Chapter 1.18 - Zamek kaniowski           0   \n",
       "3   -14.734  Bebamos Juntos - Instrumental (Remasterizado)           0   \n",
       "4   -16.829    Polonaise-Fantaisie in A-Flat Major, Op. 61           1   \n",
       "\n",
       "   speechiness    tempo  valence  year  \n",
       "0       0.0506  118.469   0.7790  1928  \n",
       "1       0.0462   83.972   0.0767  1928  \n",
       "2       0.9290  107.177   0.8800  1928  \n",
       "3       0.0926  108.003   0.7200  1928  \n",
       "4       0.0424   62.149   0.0693  1928  "
      ]
     },
     "execution_count": 8,
     "metadata": {},
     "output_type": "execute_result"
    }
   ],
   "source": [
    "data1.head()"
   ]
  },
  {
   "cell_type": "code",
   "execution_count": 9,
   "metadata": {},
   "outputs": [],
   "source": [
    "year_avg = data1[[\"acousticness\",\"danceability\",\"energy\", \"instrumentalness\",\"liveness\",\n",
    "                  \"tempo\", \"valence\", \"loudness\", \"speechiness\", \"year\"]].\\\n",
    "groupby(\"year\").mean().sort_values(by=\"year\").reset_index()"
   ]
  },
  {
   "cell_type": "code",
   "execution_count": 10,
   "metadata": {},
   "outputs": [
    {
     "data": {
      "text/html": [
       "<div>\n",
       "<style scoped>\n",
       "    .dataframe tbody tr th:only-of-type {\n",
       "        vertical-align: middle;\n",
       "    }\n",
       "\n",
       "    .dataframe tbody tr th {\n",
       "        vertical-align: top;\n",
       "    }\n",
       "\n",
       "    .dataframe thead th {\n",
       "        text-align: right;\n",
       "    }\n",
       "</style>\n",
       "<table border=\"1\" class=\"dataframe\">\n",
       "  <thead>\n",
       "    <tr style=\"text-align: right;\">\n",
       "      <th></th>\n",
       "      <th>year</th>\n",
       "      <th>acousticness</th>\n",
       "      <th>danceability</th>\n",
       "      <th>energy</th>\n",
       "      <th>instrumentalness</th>\n",
       "      <th>liveness</th>\n",
       "      <th>tempo</th>\n",
       "      <th>valence</th>\n",
       "      <th>loudness</th>\n",
       "      <th>speechiness</th>\n",
       "    </tr>\n",
       "  </thead>\n",
       "  <tbody>\n",
       "    <tr>\n",
       "      <th>0</th>\n",
       "      <td>1921</td>\n",
       "      <td>0.895823</td>\n",
       "      <td>0.425661</td>\n",
       "      <td>0.236784</td>\n",
       "      <td>0.322330</td>\n",
       "      <td>0.215814</td>\n",
       "      <td>100.397758</td>\n",
       "      <td>0.425495</td>\n",
       "      <td>-17.095438</td>\n",
       "      <td>0.077258</td>\n",
       "    </tr>\n",
       "    <tr>\n",
       "      <th>1</th>\n",
       "      <td>1922</td>\n",
       "      <td>0.939236</td>\n",
       "      <td>0.480000</td>\n",
       "      <td>0.237026</td>\n",
       "      <td>0.440470</td>\n",
       "      <td>0.238647</td>\n",
       "      <td>101.376139</td>\n",
       "      <td>0.534056</td>\n",
       "      <td>-19.179958</td>\n",
       "      <td>0.115419</td>\n",
       "    </tr>\n",
       "    <tr>\n",
       "      <th>2</th>\n",
       "      <td>1923</td>\n",
       "      <td>0.976329</td>\n",
       "      <td>0.568462</td>\n",
       "      <td>0.246936</td>\n",
       "      <td>0.401932</td>\n",
       "      <td>0.236656</td>\n",
       "      <td>112.456598</td>\n",
       "      <td>0.624788</td>\n",
       "      <td>-14.373882</td>\n",
       "      <td>0.098619</td>\n",
       "    </tr>\n",
       "    <tr>\n",
       "      <th>3</th>\n",
       "      <td>1924</td>\n",
       "      <td>0.935575</td>\n",
       "      <td>0.548654</td>\n",
       "      <td>0.347033</td>\n",
       "      <td>0.583955</td>\n",
       "      <td>0.237875</td>\n",
       "      <td>120.653359</td>\n",
       "      <td>0.668574</td>\n",
       "      <td>-14.202304</td>\n",
       "      <td>0.090210</td>\n",
       "    </tr>\n",
       "    <tr>\n",
       "      <th>4</th>\n",
       "      <td>1925</td>\n",
       "      <td>0.965422</td>\n",
       "      <td>0.571890</td>\n",
       "      <td>0.264373</td>\n",
       "      <td>0.408893</td>\n",
       "      <td>0.243094</td>\n",
       "      <td>115.671715</td>\n",
       "      <td>0.616430</td>\n",
       "      <td>-14.516707</td>\n",
       "      <td>0.115457</td>\n",
       "    </tr>\n",
       "  </tbody>\n",
       "</table>\n",
       "</div>"
      ],
      "text/plain": [
       "   year  acousticness  danceability    energy  instrumentalness  liveness  \\\n",
       "0  1921      0.895823      0.425661  0.236784          0.322330  0.215814   \n",
       "1  1922      0.939236      0.480000  0.237026          0.440470  0.238647   \n",
       "2  1923      0.976329      0.568462  0.246936          0.401932  0.236656   \n",
       "3  1924      0.935575      0.548654  0.347033          0.583955  0.237875   \n",
       "4  1925      0.965422      0.571890  0.264373          0.408893  0.243094   \n",
       "\n",
       "        tempo   valence   loudness  speechiness  \n",
       "0  100.397758  0.425495 -17.095438     0.077258  \n",
       "1  101.376139  0.534056 -19.179958     0.115419  \n",
       "2  112.456598  0.624788 -14.373882     0.098619  \n",
       "3  120.653359  0.668574 -14.202304     0.090210  \n",
       "4  115.671715  0.616430 -14.516707     0.115457  "
      ]
     },
     "execution_count": 10,
     "metadata": {},
     "output_type": "execute_result"
    }
   ],
   "source": [
    "year_avg.head()"
   ]
  },
  {
   "cell_type": "markdown",
   "metadata": {},
   "source": [
    "# Trends of song over the course of a cntury"
   ]
  },
  {
   "cell_type": "code",
   "execution_count": 11,
   "metadata": {},
   "outputs": [
    {
     "data": {
      "image/png": "[encoded data removed]",
      "text/plain": [
       "<Figure size 432x288 with 1 Axes>"
      ]
     },
     "metadata": {},
     "output_type": "display_data"
    }
   ],
   "source": [
    "year_tnd = data1.groupby(['year'], as_index=False)\n",
    "popularity_track = year_tnd[['name', 'popularity']].sum()\n",
    "song_count = year_tnd['name'].count()\n",
    "\n",
    "\n",
    "fig, ax1 = plt.subplots()\n",
    "#Trending song\n",
    "ax1.plot(popularity_track.year, popularity_track.popularity, color='red', linewidth=3,)\n",
    "ax1.set_title('Trends of songs over the course of a century', fontsize=13)\n",
    "ax1.set_xlabel('Year', fontsize=18)\n",
    "ax1.set_ylabel('Popularity', color='black', fontsize=18)\n",
    "\n",
    "plt.show()"
   ]
  },
  {
   "cell_type": "markdown",
   "metadata": {},
   "source": [
    "# Top Ten Artist"
   ]
  },
  {
   "cell_type": "code",
   "execution_count": 12,
   "metadata": {},
   "outputs": [
    {
     "data": {
      "text/plain": [
       "['Эрнест Хемингуэй']      1215\n",
       "['Francisco Canaro']       938\n",
       "['Эрих Мария Ремарк']      781\n",
       "['Ignacio Corsini']        620\n",
       "['Frank Sinatra']          592\n",
       "['Bob Dylan']              539\n",
       "['The Rolling Stones']     512\n",
       "['Johnny Cash']            502\n",
       "['The Beach Boys']         491\n",
       "['Elvis Presley']          488\n",
       "Name: artists, dtype: int64"
      ]
     },
     "execution_count": 12,
     "metadata": {},
     "output_type": "execute_result"
    }
   ],
   "source": [
    "data1[\"artists\"].value_counts()[:10]"
   ]
  },
  {
   "cell_type": "code",
   "execution_count": 13,
   "metadata": {},
   "outputs": [
    {
     "data": {
      "image/png": "[encoded data removed]",
      "text/plain": [
       "<Figure size 432x288 with 1 Axes>"
      ]
     },
     "metadata": {},
     "output_type": "display_data"
    }
   ],
   "source": [
    "Top10 = pd.DataFrame({'song popularity':data1['artists'].value_counts().head(10)})\n",
    "Top10.plot.bar(color='black')\n",
    "plt.title('Top 10 artists')\n",
    "plt.xlabel('Artists')\n",
    "plt.ylabel('No of song')\n",
    "plt.show()\n"
   ]
  },
  {
   "cell_type": "code",
   "execution_count": null,
   "metadata": {},
   "outputs": [],
   "source": []
  }
 ],
 "metadata": {
  "kernelspec": {
   "display_name": "Python 3",
   "language": "python",
   "name": "python3"
  },
  "language_info": {
   "codemirror_mode": {
    "name": "ipython",
    "version": 3
   },
   "file_extension": ".py",
   "mimetype": "text/x-python",
   "name": "python",
   "nbconvert_exporter": "python",
   "pygments_lexer": "ipython3",
   "version": "3.6.5"
  }
 },
 "nbformat": 4,
 "nbformat_minor": 2
}
